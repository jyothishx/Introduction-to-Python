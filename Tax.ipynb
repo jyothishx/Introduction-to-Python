{
  "nbformat": 4,
  "nbformat_minor": 0,
  "metadata": {
    "colab": {
      "provenance": [],
      "authorship_tag": "ABX9TyNJ4UiV85pIWIaOw1l9VZbz",
      "include_colab_link": true
    },
    "kernelspec": {
      "name": "python3",
      "display_name": "Python 3"
    },
    "language_info": {
      "name": "python"
    }
  },
  "cells": [
    {
      "cell_type": "markdown",
      "metadata": {
        "id": "view-in-github",
        "colab_type": "text"
      },
      "source": [
        "<a href=\"https://colab.research.google.com/github/jyothishx/Introduction-to-Python/blob/main/Tax.ipynb\" target=\"_parent\"><img src=\"https://colab.research.google.com/assets/colab-badge.svg\" alt=\"Open In Colab\"/></a>"
      ]
    },
    {
      "cell_type": "code",
      "execution_count": 1,
      "metadata": {
        "colab": {
          "base_uri": "https://localhost:8080/"
        },
        "id": "7uvS4QzUd0LH",
        "outputId": "0d5e81a9-d900-4616-c404-c6eb8eafc25e"
      },
      "outputs": [
        {
          "output_type": "stream",
          "name": "stdout",
          "text": [
            "66\n",
            "66 is greater than 50\n"
          ]
        }
      ],
      "source": [
        "mark = int(input())\n",
        "if mark > 50:\n",
        "  print(mark,'is greater than 50')\n",
        "else:\n",
        "  print(mark,'is less than 50')"
      ]
    },
    {
      "cell_type": "code",
      "source": [
        "mark = int(input())\n",
        "if mark > 50:\n",
        "  print(mark,'is greater than 50')\n",
        "if mark == 50:\n",
        "  print(mark,'is equal to 50')\n",
        "else:\n",
        "  print(mark,'is less than 50')"
      ],
      "metadata": {
        "colab": {
          "base_uri": "https://localhost:8080/"
        },
        "id": "ud7V1718hi8C",
        "outputId": "c2f53fe1-adb3-4b19-f713-be6b7ea62cb4"
      },
      "execution_count": 2,
      "outputs": [
        {
          "output_type": "stream",
          "name": "stdout",
          "text": [
            "66\n",
            "66 is greater than 50\n",
            "66 is less than 50\n"
          ]
        }
      ]
    },
    {
      "cell_type": "code",
      "source": [
        "salary = int(input())\n",
        "if salary >= 250000:\n",
        "  print('you are taxable')\n",
        "  print(salary*(10/100))\n",
        "else:\n",
        "  print('you are not taxable')"
      ],
      "metadata": {
        "colab": {
          "base_uri": "https://localhost:8080/"
        },
        "id": "gHH202fOibGh",
        "outputId": "061a0628-191d-463b-8d23-a4111db4636d"
      },
      "execution_count": 3,
      "outputs": [
        {
          "output_type": "stream",
          "name": "stdout",
          "text": [
            "36\n",
            "you are not taxable\n"
          ]
        }
      ]
    },
    {
      "cell_type": "code",
      "source": [
        "salary = int(input())\n",
        "if salary >= 250000:\n",
        "  print('you are taxable')\n",
        "  print((salary-250000)*(10/100))\n",
        "else:\n",
        "  print('you are not taxable')"
      ],
      "metadata": {
        "colab": {
          "base_uri": "https://localhost:8080/"
        },
        "id": "1G_M7yWQlQpH",
        "outputId": "a1ed60a1-c531-4c3e-8f58-a1a89a9d6bb8"
      },
      "execution_count": 4,
      "outputs": [
        {
          "output_type": "stream",
          "name": "stdout",
          "text": [
            "252000\n",
            "you are taxable\n",
            "200.0\n"
          ]
        }
      ]
    },
    {
      "cell_type": "code",
      "source": [
        "salary = int(input())\n",
        "if salary > 250000 and salary < 500000:\n",
        "  print('you are taxable')\n",
        "  print(salary*(10/100))\n",
        "if salary > 500000:\n",
        "  print('you are taxable')\n",
        "  print(salary*(20/100))\n",
        "if salary < 250000:\n",
        "  print('you are not taxable')"
      ],
      "metadata": {
        "colab": {
          "base_uri": "https://localhost:8080/"
        },
        "id": "OOrUSx2gopxL",
        "outputId": "3da498bd-ec8a-480c-a768-1fc7ca51bf2c"
      },
      "execution_count": 5,
      "outputs": [
        {
          "output_type": "stream",
          "name": "stdout",
          "text": [
            "636663\n",
            "you are taxable\n",
            "127332.6\n"
          ]
        }
      ]
    },
    {
      "cell_type": "code",
      "source": [
        "salary = int(input())\n",
        "if salary > 250000 and salary < 500000:\n",
        "  print('you are taxable')\n",
        "  print((salary-250000)*(10/100))\n",
        "if salary > 500000:\n",
        "  print('you are taxable')\n",
        "  print((salary-250000)*(20/100))\n",
        "if salary < 250000:\n",
        "  print('you are not taxable')"
      ],
      "metadata": {
        "colab": {
          "base_uri": "https://localhost:8080/"
        },
        "id": "ui2e0BjgrhTl",
        "outputId": "52e6eb4c-9463-419f-ffbf-529cb6822f7c"
      },
      "execution_count": 6,
      "outputs": [
        {
          "output_type": "stream",
          "name": "stdout",
          "text": [
            "655455\n",
            "you are taxable\n",
            "81091.0\n"
          ]
        }
      ]
    },
    {
      "cell_type": "code",
      "source": [],
      "metadata": {
        "id": "qviUX_FwulRt"
      },
      "execution_count": 6,
      "outputs": []
    }
  ]
}