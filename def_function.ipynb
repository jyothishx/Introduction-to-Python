{
  "nbformat": 4,
  "nbformat_minor": 0,
  "metadata": {
    "colab": {
      "provenance": [],
      "collapsed_sections": [],
      "authorship_tag": "ABX9TyM5eS2O5iJQ9Nwfy6UcplMv",
      "include_colab_link": true
    },
    "kernelspec": {
      "name": "python3",
      "display_name": "Python 3"
    },
    "language_info": {
      "name": "python"
    }
  },
  "cells": [
    {
      "cell_type": "markdown",
      "metadata": {
        "id": "view-in-github",
        "colab_type": "text"
      },
      "source": [
        "<a href=\"https://colab.research.google.com/github/jyothishx/Introduction-to-Python/blob/main/def_function.ipynb\" target=\"_parent\"><img src=\"https://colab.research.google.com/assets/colab-badge.svg\" alt=\"Open In Colab\"/></a>"
      ]
    },
    {
      "cell_type": "code",
      "execution_count": 1,
      "metadata": {
        "id": "HU--KMWIq_fM"
      },
      "outputs": [],
      "source": [
        "def jyothish():\n",
        "  print('hello world')"
      ]
    },
    {
      "cell_type": "code",
      "source": [
        "jyothish()"
      ],
      "metadata": {
        "colab": {
          "base_uri": "https://localhost:8080/"
        },
        "id": "Ji6VMD1rsgm_",
        "outputId": "82cc2aa3-5e56-4c0d-e7c9-5e212c8c7587"
      },
      "execution_count": 2,
      "outputs": [
        {
          "output_type": "stream",
          "name": "stdout",
          "text": [
            "hello world\n"
          ]
        }
      ]
    },
    {
      "cell_type": "code",
      "source": [
        "def sal(x):\n",
        "  if x>250000:\n",
        "    print('you are taxable')\n",
        "  if x<250000:\n",
        "    print('You are not taxable')"
      ],
      "metadata": {
        "id": "6S8bH0ywvclG"
      },
      "execution_count": 16,
      "outputs": []
    },
    {
      "cell_type": "code",
      "source": [
        "salary = int(input('Enter your salary '))\n",
        "sal(salary)"
      ],
      "metadata": {
        "colab": {
          "base_uri": "https://localhost:8080/"
        },
        "id": "Wok6_vi7w-nT",
        "outputId": "e1f457e2-62c8-4824-9a46-c42e60d15bb0"
      },
      "execution_count": 19,
      "outputs": [
        {
          "output_type": "stream",
          "name": "stdout",
          "text": [
            "Enter your salary 500000\n",
            "you are taxable\n"
          ]
        }
      ]
    },
    {
      "cell_type": "code",
      "source": [
        "def adding(x):\n",
        "  k = 0\n",
        "  for i in range(x):\n",
        "    k = k+x\n",
        "  return k"
      ],
      "metadata": {
        "id": "KHVrSiXoxAG2"
      },
      "execution_count": 27,
      "outputs": []
    },
    {
      "cell_type": "code",
      "source": [
        "value = int(input('enter the value '))\n",
        "adding(value)"
      ],
      "metadata": {
        "colab": {
          "base_uri": "https://localhost:8080/"
        },
        "id": "LatmpMb43gkh",
        "outputId": "f2e9fd9c-ba88-445e-d22b-0fa4c13cbe70"
      },
      "execution_count": 28,
      "outputs": [
        {
          "name": "stdout",
          "output_type": "stream",
          "text": [
            "enter the value 50\n"
          ]
        },
        {
          "output_type": "execute_result",
          "data": {
            "text/plain": [
              "2500"
            ]
          },
          "metadata": {},
          "execution_count": 28
        }
      ]
    }
  ]
}