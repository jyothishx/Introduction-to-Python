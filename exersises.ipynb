{
  "nbformat": 4,
  "nbformat_minor": 0,
  "metadata": {
    "colab": {
      "provenance": [],
      "authorship_tag": "ABX9TyMW0agJtCRBvBtwQnBgWZoh",
      "include_colab_link": true
    },
    "kernelspec": {
      "name": "python3",
      "display_name": "Python 3"
    },
    "language_info": {
      "name": "python"
    }
  },
  "cells": [
    {
      "cell_type": "markdown",
      "metadata": {
        "id": "view-in-github",
        "colab_type": "text"
      },
      "source": [
        "<a href=\"https://colab.research.google.com/github/jyothishx/Introduction-to-Python/blob/main/exersises.ipynb\" target=\"_parent\"><img src=\"https://colab.research.google.com/assets/colab-badge.svg\" alt=\"Open In Colab\"/></a>"
      ]
    },
    {
      "cell_type": "code",
      "execution_count": 3,
      "metadata": {
        "colab": {
          "base_uri": "https://localhost:8080/"
        },
        "id": "7wfmo2Tjq4eJ",
        "outputId": "aabc3a6a-4ce0-46a6-f8f0-7b9c9c7c3516"
      },
      "outputs": [
        {
          "output_type": "stream",
          "name": "stdout",
          "text": [
            "Enter any number: 5\n",
            "5 x 1 = 5\n",
            "5 x 2 = 10\n",
            "5 x 3 = 15\n",
            "5 x 4 = 20\n",
            "5 x 5 = 25\n",
            "5 x 6 = 30\n",
            "5 x 7 = 35\n",
            "5 x 8 = 40\n",
            "5 x 9 = 45\n",
            "5 x 10 = 50\n"
          ]
        }
      ],
      "source": [
        "num = int(input(\"Enter any number: \"))\n",
        "for i in range(1,11):\n",
        "  print(num,'x', i,'=',num*i)"
      ]
    },
    {
      "cell_type": "code",
      "source": [
        "num = input('Enter any number: ')\n",
        "k = 0\n",
        "for i in num:\n",
        "  k = k+1\n",
        "print(k)"
      ],
      "metadata": {
        "colab": {
          "base_uri": "https://localhost:8080/"
        },
        "id": "SVLTdm0gq7JB",
        "outputId": "dd91fcf9-ebb9-47cb-a196-f695820a5aaa"
      },
      "execution_count": 11,
      "outputs": [
        {
          "output_type": "stream",
          "name": "stdout",
          "text": [
            "Enter any number: 55555\n",
            "5\n"
          ]
        }
      ]
    },
    {
      "cell_type": "code",
      "source": [
        "num = int(input('Enter any number: '))\n",
        "k = 1\n",
        "while k<=10:\n",
        "  print(num*k)\n",
        "  k = k+1"
      ],
      "metadata": {
        "colab": {
          "base_uri": "https://localhost:8080/"
        },
        "id": "CNBlgCswvjpJ",
        "outputId": "5429ad04-f6f7-4d1b-cc65-f324e60e8f0c"
      },
      "execution_count": 16,
      "outputs": [
        {
          "output_type": "stream",
          "name": "stdout",
          "text": [
            "Enter any number: 5\n",
            "5\n",
            "10\n",
            "15\n",
            "20\n",
            "25\n",
            "30\n",
            "35\n",
            "40\n",
            "45\n",
            "50\n"
          ]
        }
      ]
    },
    {
      "cell_type": "code",
      "source": [
        "string = input('Enter any word: ')\n",
        "rev = string[::-1]\n",
        "if string == rev:\n",
        "  print(string, 'is a palindrom')\n",
        "else:\n",
        "  print(string, 'is not a palindorm')"
      ],
      "metadata": {
        "colab": {
          "base_uri": "https://localhost:8080/"
        },
        "id": "MRsaDKsYxdkQ",
        "outputId": "2ff6f346-2ab5-4b3d-adda-c442bfe9dfd6"
      },
      "execution_count": 17,
      "outputs": [
        {
          "output_type": "stream",
          "name": "stdout",
          "text": [
            "Enter any word: amma\n",
            "amma is a palindrom\n"
          ]
        }
      ]
    },
    {
      "cell_type": "code",
      "source": [
        "english = float(input('Enter english marks: '))\n",
        "ip = float(input('Enter ip marks: '))\n",
        "language = float(input('Enter language marks: '))\n",
        "economics = float(input('Enter economics marks: '))\n",
        "business = float(input('Enter business marks: '))\n",
        "\n",
        "print(' ')\n",
        "\n",
        "marks = [english, ip , language, economics, business]\n",
        "minimum = min(marks)\n",
        "maximum = max(marks)\n",
        "average = sum(marks)/5 \n",
        "rounded = round(average,3)\n",
        "\n",
        "print('minimum mark = ', minimum)\n",
        "print('maximum mark = ', maximum)\n",
        "print('average mark = ', average)\n",
        "print('rounded average = ', rounded)"
      ],
      "metadata": {
        "colab": {
          "base_uri": "https://localhost:8080/"
        },
        "id": "6srTte3v4U8B",
        "outputId": "ae1b0d09-f22b-4684-f645-d8edebda8180"
      },
      "execution_count": 33,
      "outputs": [
        {
          "output_type": "stream",
          "name": "stdout",
          "text": [
            "Enter english marks: 56.4\n",
            "Enter ip marks: 48.3\n",
            "Enter language marks: 63.8\n",
            "Enter economics marks: 96\n",
            "Enter business marks: 33\n",
            " \n",
            "minimum mark =  33.0\n",
            "maximum mark =  96.0\n",
            "average mark =  59.5\n",
            "rounded average =  59.5\n"
          ]
        }
      ]
    },
    {
      "cell_type": "code",
      "source": [],
      "metadata": {
        "id": "9dUQDCUs89-r"
      },
      "execution_count": null,
      "outputs": []
    }
  ]
}