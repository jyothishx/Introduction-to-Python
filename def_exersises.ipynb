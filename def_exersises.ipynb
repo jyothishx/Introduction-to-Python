{
  "nbformat": 4,
  "nbformat_minor": 0,
  "metadata": {
    "colab": {
      "provenance": [],
      "authorship_tag": "ABX9TyPR3ckQ793Gn7szZ+o7gg5V",
      "include_colab_link": true
    },
    "kernelspec": {
      "name": "python3",
      "display_name": "Python 3"
    },
    "language_info": {
      "name": "python"
    }
  },
  "cells": [
    {
      "cell_type": "markdown",
      "metadata": {
        "id": "view-in-github",
        "colab_type": "text"
      },
      "source": [
        "<a href=\"https://colab.research.google.com/github/jyothishx/Introduction-to-Python/blob/main/def_exersises.ipynb\" target=\"_parent\"><img src=\"https://colab.research.google.com/assets/colab-badge.svg\" alt=\"Open In Colab\"/></a>"
      ]
    },
    {
      "cell_type": "code",
      "execution_count": 1,
      "metadata": {
        "colab": {
          "base_uri": "https://localhost:8080/"
        },
        "id": "JYFcA_SbvIWt",
        "outputId": "f9e192a2-c6a0-4615-a146-633174df9353"
      },
      "outputs": [
        {
          "output_type": "stream",
          "name": "stdout",
          "text": [
            "Fifa world cup 2022\n"
          ]
        }
      ],
      "source": [
        "def fifa():\n",
        "  print('Fifa world cup 2022')\n",
        "fifa()"
      ]
    },
    {
      "cell_type": "code",
      "source": [
        "def full_name(n1,n2,n3):\n",
        "  print(n1, n2, n3)\n",
        "full_name('irene', 'mariyam', 'binu')"
      ],
      "metadata": {
        "colab": {
          "base_uri": "https://localhost:8080/"
        },
        "id": "Qb_LRuJnvUZi",
        "outputId": "1327ddf6-578e-40e8-8e23-dc49d4cba7d7"
      },
      "execution_count": 6,
      "outputs": [
        {
          "output_type": "stream",
          "name": "stdout",
          "text": [
            "irene mariyam binu\n"
          ]
        }
      ]
    },
    {
      "cell_type": "code",
      "source": [
        "def full_name(n1,n2,n3):\n",
        "  print(n3, n2, n1)\n",
        "full_name('irene', 'mariyam', 'binu')"
      ],
      "metadata": {
        "colab": {
          "base_uri": "https://localhost:8080/"
        },
        "id": "U6jgH4ilv4sT",
        "outputId": "747bf781-f400-4aba-bbc6-387db6669db2"
      },
      "execution_count": 8,
      "outputs": [
        {
          "output_type": "stream",
          "name": "stdout",
          "text": [
            "binu mariyam irene\n"
          ]
        }
      ]
    },
    {
      "cell_type": "code",
      "source": [
        "def fav(*x):\n",
        "  print('second favorite player is', x[1])\n",
        "fav('ronaldo', 'messi', 'neymar', 'irene', 'junaid')"
      ],
      "metadata": {
        "colab": {
          "base_uri": "https://localhost:8080/"
        },
        "id": "26vsFYZfxK-y",
        "outputId": "1bb1cef2-327d-439a-9ca9-c1b21f67c18a"
      },
      "execution_count": 10,
      "outputs": [
        {
          "output_type": "stream",
          "name": "stdout",
          "text": [
            "second favorite player is messi\n"
          ]
        }
      ]
    },
    {
      "cell_type": "code",
      "source": [
        "def con(country = 'mexico'):\n",
        "  print('my favorite team is from ' + country)\n",
        "con('japan')\n",
        "con()"
      ],
      "metadata": {
        "colab": {
          "base_uri": "https://localhost:8080/"
        },
        "id": "YKjPGp7SyFiH",
        "outputId": "9ae08471-8c62-48b7-97b5-f77dcb3f1657"
      },
      "execution_count": 16,
      "outputs": [
        {
          "output_type": "stream",
          "name": "stdout",
          "text": [
            "my favorite team is from japan\n",
            "my favorite team is from mexico\n"
          ]
        }
      ]
    },
    {
      "cell_type": "code",
      "source": [
        "def teams(x):\n",
        "  for i in x:\n",
        "    print(i)\n",
        "teams(['saudi', 'argentina', 'portugal', 'brazil', 'germany', 'ecudor'])"
      ],
      "metadata": {
        "colab": {
          "base_uri": "https://localhost:8080/"
        },
        "id": "mEWyIpTAzJXy",
        "outputId": "ff459ee2-d1dc-469a-8a2a-592113e26c33"
      },
      "execution_count": 18,
      "outputs": [
        {
          "output_type": "stream",
          "name": "stdout",
          "text": [
            "saudi\n",
            "argentina\n",
            "portugal\n",
            "brazil\n",
            "germany\n",
            "ecudor\n"
          ]
        }
      ]
    },
    {
      "cell_type": "code",
      "source": [],
      "metadata": {
        "id": "7UoUhFMj4vMm"
      },
      "execution_count": null,
      "outputs": []
    }
  ]
}