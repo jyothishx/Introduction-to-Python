{
  "nbformat": 4,
  "nbformat_minor": 0,
  "metadata": {
    "colab": {
      "provenance": [],
      "authorship_tag": "ABX9TyNt7m/5jtzr4pkYMb6m6VSV",
      "include_colab_link": true
    },
    "kernelspec": {
      "name": "python3",
      "display_name": "Python 3"
    },
    "language_info": {
      "name": "python"
    }
  },
  "cells": [
    {
      "cell_type": "markdown",
      "metadata": {
        "id": "view-in-github",
        "colab_type": "text"
      },
      "source": [
        "<a href=\"https://colab.research.google.com/github/jyothishx/Introduction-to-Python/blob/main/basics.ipynb\" target=\"_parent\"><img src=\"https://colab.research.google.com/assets/colab-badge.svg\" alt=\"Open In Colab\"/></a>"
      ]
    },
    {
      "cell_type": "code",
      "execution_count": 5,
      "metadata": {
        "colab": {
          "base_uri": "https://localhost:8080/"
        },
        "id": "kD0cfqEJd8EB",
        "outputId": "bf70277c-e941-4589-f4f4-bfe352901b8a"
      },
      "outputs": [
        {
          "output_type": "stream",
          "name": "stdout",
          "text": [
            "Enter your name jyothish\n",
            "Enter you phone number 45633463\n",
            "Name - jyothish Phone number - 45633463\n"
          ]
        }
      ],
      "source": [
        "name = input('Enter your name ')\n",
        "number = input('Enter you phone number ')\n",
        "print('Name -', name,'Phone number -', number)"
      ]
    },
    {
      "cell_type": "code",
      "source": [
        "name = input('Enter your name - ')\n",
        "eng = int(input('Enter your english marks - '))\n",
        "buss = int(input('Enter your business marks - '))\n",
        "eco = int(input('Enter your economics marks - '))\n",
        "add = eng + buss + eco\n",
        "print('Total marks - ',add)"
      ],
      "metadata": {
        "colab": {
          "base_uri": "https://localhost:8080/"
        },
        "id": "mQm6i9v7evfz",
        "outputId": "4214069b-cedc-4c79-a62b-cd485efbca86"
      },
      "execution_count": 9,
      "outputs": [
        {
          "output_type": "stream",
          "name": "stdout",
          "text": [
            "Enter your name - jyothish\n",
            "Enter your english marks - 50\n",
            "Enter your business marks - 50\n",
            "Enter your economics marks - 50\n",
            "Total marks -  150\n"
          ]
        }
      ]
    },
    {
      "cell_type": "code",
      "source": [
        "name = input('Enter your name - ')\n",
        "eng = int(input('Enter your english marks - '))\n",
        "buss = int(input('Enter your business marks - '))\n",
        "eco = int(input('Enter your economics marks - '))\n",
        "add = eng + buss + eco\n",
        "avg = add/3\n",
        "print('Average marks - ', avg)"
      ],
      "metadata": {
        "colab": {
          "base_uri": "https://localhost:8080/"
        },
        "id": "Z1BpqP1mjejH",
        "outputId": "24df90f3-b1fc-4bf1-f878-21c7a86e5244"
      },
      "execution_count": 10,
      "outputs": [
        {
          "output_type": "stream",
          "name": "stdout",
          "text": [
            "Enter your name - jyothish\n",
            "Enter your english marks - 40\n",
            "Enter your business marks - 40\n",
            "Enter your economics marks - 40\n",
            "Average marks -  40.0\n"
          ]
        }
      ]
    },
    {
      "cell_type": "code",
      "source": [
        "n1 = int(input('Enter a number - '))\n",
        "n2 = int(input('Enter a another number - '))\n",
        "n3 = int(input('Enter a another number - '))\n",
        "if n1 > n2 and n1 > n3:\n",
        "  print(n1, 'is the largest number')\n",
        "if n2 > n1 and n2 > n3:\n",
        "  print(n2, 'is the largest number')\n",
        "else:\n",
        "  print(n3, 'is the largest number')"
      ],
      "metadata": {
        "colab": {
          "base_uri": "https://localhost:8080/"
        },
        "id": "StXMjx2YlENk",
        "outputId": "88605756-e65f-4ebc-a86f-ff7cd4aa0153"
      },
      "execution_count": 17,
      "outputs": [
        {
          "output_type": "stream",
          "name": "stdout",
          "text": [
            "Enter a number - 45\n",
            "Enter a another number - 90\n",
            "Enter a another number - 37\n",
            "90 is the largest number\n"
          ]
        }
      ]
    },
    {
      "cell_type": "code",
      "source": [
        "n1 = int(input('Enter a number - '))\n",
        "if n1%2 == 0:\n",
        "  print(n1,'is an even number')\n",
        "else:\n",
        "  print(n1,'is an odd number')"
      ],
      "metadata": {
        "colab": {
          "base_uri": "https://localhost:8080/"
        },
        "id": "FDTm6OoHmP5-",
        "outputId": "afc57963-d355-4faa-a6b4-363d8bd6dc91"
      },
      "execution_count": 22,
      "outputs": [
        {
          "output_type": "stream",
          "name": "stdout",
          "text": [
            "Enter a number - 5\n",
            "5 is an odd number\n"
          ]
        }
      ]
    },
    {
      "cell_type": "code",
      "source": [
        "for i in range(1,11):\n",
        "  print(i)"
      ],
      "metadata": {
        "colab": {
          "base_uri": "https://localhost:8080/"
        },
        "id": "yyl1qVRbvJy-",
        "outputId": "9b1a87f7-546a-41d1-d7c2-e834bc6fde82"
      },
      "execution_count": 29,
      "outputs": [
        {
          "output_type": "stream",
          "name": "stdout",
          "text": [
            "1\n",
            "2\n",
            "3\n",
            "4\n",
            "5\n",
            "6\n",
            "7\n",
            "8\n",
            "9\n",
            "10\n"
          ]
        }
      ]
    },
    {
      "cell_type": "code",
      "source": [
        "n1 = int(input('Enter a number - '))\n",
        "n2 = int(input('Enter a number - '))\n",
        "for i in range(n1, n2):\n",
        "  if i%2 == 0:\n",
        "    print(i)"
      ],
      "metadata": {
        "colab": {
          "base_uri": "https://localhost:8080/"
        },
        "id": "YVxq5bcxzUVs",
        "outputId": "aec2b416-397f-4cb6-e220-50653280a48e"
      },
      "execution_count": 32,
      "outputs": [
        {
          "output_type": "stream",
          "name": "stdout",
          "text": [
            "Enter a number - 1\n",
            "Enter a number - 11\n",
            "2\n",
            "4\n",
            "6\n",
            "8\n",
            "10\n"
          ]
        }
      ]
    },
    {
      "cell_type": "code",
      "source": [
        "for i in range(1,11):\n",
        "  print(i*5)"
      ],
      "metadata": {
        "colab": {
          "base_uri": "https://localhost:8080/"
        },
        "id": "Kde90rGk0pt8",
        "outputId": "d048fb33-e677-4afc-9127-332e37fb5e5c"
      },
      "execution_count": 34,
      "outputs": [
        {
          "output_type": "stream",
          "name": "stdout",
          "text": [
            "5\n",
            "10\n",
            "15\n",
            "20\n",
            "25\n",
            "30\n",
            "35\n",
            "40\n",
            "45\n",
            "50\n"
          ]
        }
      ]
    },
    {
      "cell_type": "code",
      "source": [],
      "metadata": {
        "id": "svewZtt91Dyq"
      },
      "execution_count": null,
      "outputs": []
    }
  ]
}